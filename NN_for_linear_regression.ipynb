{
  "nbformat": 4,
  "nbformat_minor": 0,
  "metadata": {
    "colab": {
      "provenance": [],
      "authorship_tag": "ABX9TyOubW7FPk8q4hbYw7TEkX9l",
      "include_colab_link": true
    },
    "kernelspec": {
      "name": "python3",
      "display_name": "Python 3"
    },
    "language_info": {
      "name": "python"
    }
  },
  "cells": [
    {
      "cell_type": "markdown",
      "metadata": {
        "id": "view-in-github",
        "colab_type": "text"
      },
      "source": [
        "<a href=\"https://colab.research.google.com/github/SujithSaiSripadam/Deep_Learning/blob/main/NN_for_linear_regression.ipynb\" target=\"_parent\"><img src=\"https://colab.research.google.com/assets/colab-badge.svg\" alt=\"Open In Colab\"/></a>"
      ]
    },
    {
      "cell_type": "markdown",
      "source": [
        "# **Importing libraries**"
      ],
      "metadata": {
        "id": "IYWK8BB9jvFF"
      }
    },
    {
      "cell_type": "code",
      "execution_count": 18,
      "metadata": {
        "id": "_vF_tJS4hc7N"
      },
      "outputs": [],
      "source": [
        "import torch.nn as nn\n",
        "from torch.utils.data import TensorDataset\n",
        "from torch.utils.data import DataLoader\n",
        "import torch\n",
        "import numpy as np\n",
        "import torch.nn.functional as F"
      ]
    },
    {
      "cell_type": "code",
      "source": [
        "# Input (temp, rainfall, humidity)\n",
        "inputs = np.array([[73, 67, 43],\n",
        "                   [91, 88, 64],\n",
        "                   [87, 134, 58],\n",
        "                   [102, 43, 37],\n",
        "                   [69, 96, 70],\n",
        "                   [74, 66, 43],\n",
        "                   [91, 87, 65],\n",
        "                   [88, 134, 59],\n",
        "                   [101, 44, 37],\n",
        "                   [68, 96, 71],\n",
        "                   [73, 66, 44],\n",
        "                   [92, 87, 64],\n",
        "                   [87, 135, 57],\n",
        "                   [103, 43, 36],\n",
        "                   [68, 97, 70]],\n",
        "                  dtype='float32')\n",
        "\n",
        "# Targets (apples, oranges)\n",
        "targets = np.array([[56, 70],\n",
        "                    [81, 101],\n",
        "                    [119, 133],\n",
        "                    [22, 37],\n",
        "                    [103, 119],\n",
        "                    [57, 69],\n",
        "                    [80, 102],\n",
        "                    [118, 132],\n",
        "                    [21, 38],\n",
        "                    [104, 118],\n",
        "                    [57, 69],\n",
        "                    [82, 100],\n",
        "                    [118, 134],\n",
        "                    [20, 38],\n",
        "                    [102, 120]],\n",
        "                   dtype='float32')\n",
        "\n",
        "inputs = torch.from_numpy(inputs)\n",
        "targets = torch.from_numpy(targets)"
      ],
      "metadata": {
        "id": "Mv0qEmSoh9h2"
      },
      "execution_count": 9,
      "outputs": []
    },
    {
      "cell_type": "markdown",
      "source": [
        "# **Creating training data and dataloaders**"
      ],
      "metadata": {
        "id": "eW6UCjHPkCB1"
      }
    },
    {
      "cell_type": "code",
      "source": [
        "train_ds = TensorDataset(inputs,targets)"
      ],
      "metadata": {
        "id": "yHnf2pzki9Xr"
      },
      "execution_count": 10,
      "outputs": []
    },
    {
      "cell_type": "code",
      "source": [
        "batch_size = 5\n",
        "train_dl = DataLoader(train_ds,batch_size ,shuffle=True)"
      ],
      "metadata": {
        "id": "7SKLCMXKjPdl"
      },
      "execution_count": 11,
      "outputs": []
    },
    {
      "cell_type": "markdown",
      "source": [
        "# **Defining Model**"
      ],
      "metadata": {
        "id": "6qN62KGFkLBC"
      }
    },
    {
      "cell_type": "code",
      "source": [
        "model = nn.Linear(3,2)"
      ],
      "metadata": {
        "id": "UBOXENucjkqO"
      },
      "execution_count": 12,
      "outputs": []
    },
    {
      "cell_type": "code",
      "source": [
        "list(model.parameters())"
      ],
      "metadata": {
        "colab": {
          "base_uri": "https://localhost:8080/"
        },
        "id": "j0LZYxXXkT_o",
        "outputId": "c157c105-8426-4514-c76d-8547e2e17762"
      },
      "execution_count": 16,
      "outputs": [
        {
          "output_type": "execute_result",
          "data": {
            "text/plain": [
              "[Parameter containing:\n",
              " tensor([[ 0.4109, -0.4979, -0.4067],\n",
              "         [ 0.3546,  0.2466,  0.2672]], requires_grad=True),\n",
              " Parameter containing:\n",
              " tensor([ 0.1263, -0.3934], requires_grad=True)]"
            ]
          },
          "metadata": {},
          "execution_count": 16
        }
      ]
    },
    {
      "cell_type": "markdown",
      "source": [
        "# **Generate Predictions**"
      ],
      "metadata": {
        "id": "wS5Ae-2pkm8J"
      }
    },
    {
      "cell_type": "code",
      "source": [
        "pred = model(inputs)"
      ],
      "metadata": {
        "id": "F5GJRqtKkaBP"
      },
      "execution_count": 17,
      "outputs": []
    },
    {
      "cell_type": "code",
      "source": [
        "error = F.mse_loss(pred,targets)\n",
        "loss_fn = F.mse_loss"
      ],
      "metadata": {
        "id": "ReObT-GhkvYt"
      },
      "execution_count": 24,
      "outputs": []
    },
    {
      "cell_type": "code",
      "source": [
        "error"
      ],
      "metadata": {
        "colab": {
          "base_uri": "https://localhost:8080/"
        },
        "id": "jsVLPPtMlHVB",
        "outputId": "b4628d25-ea3d-4b59-a268-f47a377ada48"
      },
      "execution_count": 20,
      "outputs": [
        {
          "output_type": "execute_result",
          "data": {
            "text/plain": [
              "tensor(7889.9941, grad_fn=<MseLossBackward0>)"
            ]
          },
          "metadata": {},
          "execution_count": 20
        }
      ]
    },
    {
      "cell_type": "markdown",
      "source": [
        "# **Optimizing**"
      ],
      "metadata": {
        "id": "GBKyI8-PlOjb"
      }
    },
    {
      "cell_type": "code",
      "source": [
        "opt = torch.optim.SGD(model.parameters(),lr = 1e-5)"
      ],
      "metadata": {
        "id": "fpTwULeFlJDU"
      },
      "execution_count": 25,
      "outputs": []
    },
    {
      "cell_type": "markdown",
      "source": [
        "# **Training**"
      ],
      "metadata": {
        "id": "M3vatvIwltVf"
      }
    },
    {
      "cell_type": "code",
      "source": [
        "def fit(n_epochs,model,loss_fn,opt,train_dl):\n",
        "    for epoch in range(n_epochs):\n",
        "        for xb,yb in train_dl:\n",
        "            pred = model(xb)\n",
        "            loss = loss_fn(pred,yb)\n",
        "            loss.backward()\n",
        "            opt.step()\n",
        "            opt.zero_grad()\n",
        "\n",
        "            if((epoch+1)%10 == 0 ):\n",
        "                print(\"for epoch[{}/{}] ;  loss = {:}\".format(epoch+1,n_epochs,loss.item()))\n",
        "\n"
      ],
      "metadata": {
        "id": "ZjplZNWJlsKk"
      },
      "execution_count": 48,
      "outputs": []
    },
    {
      "cell_type": "code",
      "source": [
        "fit(100,model,loss_fn,opt,train_dl)"
      ],
      "metadata": {
        "colab": {
          "base_uri": "https://localhost:8080/"
        },
        "id": "b2WPbibOp9AE",
        "outputId": "1e3c11b3-b3e4-4c2f-e8f2-f8a427c129db"
      },
      "execution_count": 51,
      "outputs": [
        {
          "output_type": "stream",
          "name": "stdout",
          "text": [
            "for epoch[10/100] ;  loss = 0.7915599942207336\n",
            "for epoch[10/100] ;  loss = 1.3933436870574951\n",
            "for epoch[10/100] ;  loss = 0.8927839398384094\n",
            "for epoch[20/100] ;  loss = 1.074581265449524\n",
            "for epoch[20/100] ;  loss = 0.8577839732170105\n",
            "for epoch[20/100] ;  loss = 1.1959586143493652\n",
            "for epoch[30/100] ;  loss = 1.4494562149047852\n",
            "for epoch[30/100] ;  loss = 0.6746825575828552\n",
            "for epoch[30/100] ;  loss = 0.9345458745956421\n",
            "for epoch[40/100] ;  loss = 1.0149915218353271\n",
            "for epoch[40/100] ;  loss = 0.8705955743789673\n",
            "for epoch[40/100] ;  loss = 1.2474825382232666\n",
            "for epoch[50/100] ;  loss = 1.4183571338653564\n",
            "for epoch[50/100] ;  loss = 0.7811489105224609\n",
            "for epoch[50/100] ;  loss = 0.9509376287460327\n",
            "for epoch[60/100] ;  loss = 0.7685837745666504\n",
            "for epoch[60/100] ;  loss = 1.2283316850662231\n",
            "for epoch[60/100] ;  loss = 1.1364465951919556\n",
            "for epoch[70/100] ;  loss = 1.1228605508804321\n",
            "for epoch[70/100] ;  loss = 0.8455299139022827\n",
            "for epoch[70/100] ;  loss = 1.1808159351348877\n",
            "for epoch[80/100] ;  loss = 1.109553575515747\n",
            "for epoch[80/100] ;  loss = 1.1478490829467773\n",
            "for epoch[80/100] ;  loss = 0.8225377798080444\n",
            "for epoch[90/100] ;  loss = 0.9455451965332031\n",
            "for epoch[90/100] ;  loss = 1.026498794555664\n",
            "for epoch[90/100] ;  loss = 1.0872557163238525\n",
            "for epoch[100/100] ;  loss = 0.8862897157669067\n",
            "for epoch[100/100] ;  loss = 0.8070982098579407\n",
            "for epoch[100/100] ;  loss = 1.385572910308838\n"
          ]
        }
      ]
    },
    {
      "cell_type": "code",
      "source": [
        "model(torch.tensor([[72,68,42.]]))"
      ],
      "metadata": {
        "colab": {
          "base_uri": "https://localhost:8080/"
        },
        "id": "w0LWlzsZqDEy",
        "outputId": "abc61254-9ca5-49d1-a6e4-8ab8c7b479b7"
      },
      "execution_count": 54,
      "outputs": [
        {
          "output_type": "execute_result",
          "data": {
            "text/plain": [
              "tensor([[57.5209, 70.5208]], grad_fn=<AddmmBackward0>)"
            ]
          },
          "metadata": {},
          "execution_count": 54
        }
      ]
    },
    {
      "cell_type": "code",
      "source": [
        "targets"
      ],
      "metadata": {
        "colab": {
          "base_uri": "https://localhost:8080/"
        },
        "id": "4woRsg4Brr-5",
        "outputId": "19f39cce-130e-4b65-cd61-a0425d66a499"
      },
      "execution_count": 55,
      "outputs": [
        {
          "output_type": "execute_result",
          "data": {
            "text/plain": [
              "tensor([[ 56.,  70.],\n",
              "        [ 81., 101.],\n",
              "        [119., 133.],\n",
              "        [ 22.,  37.],\n",
              "        [103., 119.],\n",
              "        [ 57.,  69.],\n",
              "        [ 80., 102.],\n",
              "        [118., 132.],\n",
              "        [ 21.,  38.],\n",
              "        [104., 118.],\n",
              "        [ 57.,  69.],\n",
              "        [ 82., 100.],\n",
              "        [118., 134.],\n",
              "        [ 20.,  38.],\n",
              "        [102., 120.]])"
            ]
          },
          "metadata": {},
          "execution_count": 55
        }
      ]
    },
    {
      "cell_type": "code",
      "source": [
        "inputs"
      ],
      "metadata": {
        "colab": {
          "base_uri": "https://localhost:8080/"
        },
        "id": "xD-1Fqh-r5W_",
        "outputId": "8e7dfbfc-8903-41e9-c361-e40f26d6b986"
      },
      "execution_count": 57,
      "outputs": [
        {
          "output_type": "execute_result",
          "data": {
            "text/plain": [
              "tensor([[ 73.,  67.,  43.],\n",
              "        [ 91.,  88.,  64.],\n",
              "        [ 87., 134.,  58.],\n",
              "        [102.,  43.,  37.],\n",
              "        [ 69.,  96.,  70.],\n",
              "        [ 74.,  66.,  43.],\n",
              "        [ 91.,  87.,  65.],\n",
              "        [ 88., 134.,  59.],\n",
              "        [101.,  44.,  37.],\n",
              "        [ 68.,  96.,  71.],\n",
              "        [ 73.,  66.,  44.],\n",
              "        [ 92.,  87.,  64.],\n",
              "        [ 87., 135.,  57.],\n",
              "        [103.,  43.,  36.],\n",
              "        [ 68.,  97.,  70.]])"
            ]
          },
          "metadata": {},
          "execution_count": 57
        }
      ]
    },
    {
      "cell_type": "code",
      "source": [
        "# Generate predictions\n",
        "preds = model(inputs)\n",
        "preds"
      ],
      "metadata": {
        "colab": {
          "base_uri": "https://localhost:8080/"
        },
        "id": "f_YgAPyxr8YS",
        "outputId": "cfc1f661-e37e-4d28-ee42-ca84206314a1"
      },
      "execution_count": 58,
      "outputs": [
        {
          "output_type": "execute_result",
          "data": {
            "text/plain": [
              "tensor([[ 56.9705,  70.3356],\n",
              "        [ 82.0103, 100.5813],\n",
              "        [118.2000, 132.8277],\n",
              "        [ 20.8145,  37.7743],\n",
              "        [101.8501, 118.4828],\n",
              "        [ 55.7227,  69.2603],\n",
              "        [ 81.8652, 100.6788],\n",
              "        [118.4920, 133.4350],\n",
              "        [ 22.0622,  38.8496],\n",
              "        [102.9527, 119.6557],\n",
              "        [ 56.8253,  70.4332],\n",
              "        [ 80.7626,  99.5060],\n",
              "        [118.3451, 132.7301],\n",
              "        [ 19.7119,  36.6015],\n",
              "        [103.0979, 119.5581]], grad_fn=<AddmmBackward0>)"
            ]
          },
          "metadata": {},
          "execution_count": 58
        }
      ]
    },
    {
      "cell_type": "code",
      "source": [],
      "metadata": {
        "id": "qxIafL1AsHQU"
      },
      "execution_count": null,
      "outputs": []
    }
  ]
}