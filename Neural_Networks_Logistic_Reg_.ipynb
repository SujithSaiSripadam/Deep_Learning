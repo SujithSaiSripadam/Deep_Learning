{
  "cells": [
    {
      "cell_type": "markdown",
      "metadata": {
        "id": "view-in-github",
        "colab_type": "text"
      },
      "source": [
        "<a href=\"https://colab.research.google.com/github/SujithSaiSripadam/Deep_Learning/blob/main/Neural_Networks_Logistic_Reg_.ipynb\" target=\"_parent\"><img src=\"https://colab.research.google.com/assets/colab-badge.svg\" alt=\"Open In Colab\"/></a>"
      ]
    },
    {
      "cell_type": "markdown",
      "metadata": {
        "id": "S2DIbymCW8Kd"
      },
      "source": [
        "# **Recognizing hand written digits using Neural Networks :(Logistic Regression)**"
      ]
    },
    {
      "cell_type": "code",
      "execution_count": 1,
      "metadata": {
        "id": "9KPxI0aSXc4J"
      },
      "outputs": [],
      "source": [
        "import torch\n",
        "from torchvision.datasets import MNIST\n",
        "from torch.utils.data import DataLoader\n",
        "import torchvision\n",
        "import torch.nn as nn\n",
        "from torch.utils.data import random_split\n",
        "import torchvision.transforms as transforms\n",
        "import matplotlib.pyplot as plt\n",
        "%matplotlib inline\n",
        "import torch.nn.functional as F"
      ]
    },
    {
      "cell_type": "code",
      "execution_count": 2,
      "metadata": {
        "id": "OtoW8vimZE22"
      },
      "outputs": [],
      "source": [
        "#downloading mnist dataset into root\n",
        "ds = MNIST(root='data/',download=True)"
      ]
    },
    {
      "cell_type": "code",
      "execution_count": 3,
      "metadata": {
        "id": "QhG0-KhoHw5l"
      },
      "outputs": [],
      "source": [
        "ds = MNIST(root='data/',download=True,transform = transforms.ToTensor())"
      ]
    },
    {
      "cell_type": "code",
      "execution_count": 4,
      "metadata": {
        "id": "pl2NjFUFbQt1",
        "colab": {
          "base_uri": "https://localhost:8080/"
        },
        "outputId": "e1b393d9-7e3c-47e8-bf5e-21846f3c7b86"
      },
      "outputs": [
        {
          "output_type": "execute_result",
          "data": {
            "text/plain": [
              "60000"
            ]
          },
          "metadata": {},
          "execution_count": 4
        }
      ],
      "source": [
        "len(ds)"
      ]
    },
    {
      "cell_type": "code",
      "execution_count": 5,
      "metadata": {
        "id": "-U2TLAC_aJwe"
      },
      "outputs": [],
      "source": [
        "#downloading training dataset\n",
        "test_ds = MNIST(root='data/',train=False,download=True)"
      ]
    },
    {
      "cell_type": "code",
      "execution_count": 6,
      "metadata": {
        "id": "HbUdQFn2axjB"
      },
      "outputs": [],
      "source": [
        "#creating validataion and test datasets out of dataset\n",
        "train_ds , val_ds = random_split(ds,[50000,10000])"
      ]
    },
    {
      "cell_type": "code",
      "execution_count": 7,
      "metadata": {
        "id": "8zpPsddfbUoE",
        "colab": {
          "base_uri": "https://localhost:8080/"
        },
        "outputId": "7f199f7b-8c0c-44d0-9899-6bf0c128d074"
      },
      "outputs": [
        {
          "output_type": "execute_result",
          "data": {
            "text/plain": [
              "50000"
            ]
          },
          "metadata": {},
          "execution_count": 7
        }
      ],
      "source": [
        "len(train_ds)"
      ]
    },
    {
      "cell_type": "code",
      "execution_count": 8,
      "metadata": {
        "id": "Rl0N_H_wcjx8"
      },
      "outputs": [],
      "source": [
        "#shuffling\n",
        "batch_size = 32\n",
        "train_dl = DataLoader(train_ds,batch_size ,shuffle= True)\n",
        "val_dl = DataLoader(val_ds,batch_size)"
      ]
    },
    {
      "cell_type": "code",
      "execution_count": 9,
      "metadata": {
        "id": "_iZGCU3yH0at",
        "colab": {
          "base_uri": "https://localhost:8080/"
        },
        "outputId": "a9763c0c-c942-4bd8-c6f4-213af72fec6a"
      },
      "outputs": [
        {
          "output_type": "stream",
          "name": "stdout",
          "text": [
            "torch.Size([1, 28, 28])\n"
          ]
        }
      ],
      "source": [
        "images , label = ds[0]\n",
        "print(images.shape)"
      ]
    },
    {
      "cell_type": "markdown",
      "metadata": {
        "id": "EqJnnr70cK95"
      },
      "source": [
        "# **Creating Model**"
      ]
    },
    {
      "cell_type": "code",
      "execution_count": 10,
      "metadata": {
        "id": "ezyxEoqDbZTy"
      },
      "outputs": [],
      "source": [
        "input_size = 28*28\n",
        "classes = 10\n",
        "model = nn.Linear(classes,input_size)"
      ]
    },
    {
      "cell_type": "code",
      "execution_count": 11,
      "metadata": {
        "id": "Sr8B2I5UFnTI",
        "colab": {
          "base_uri": "https://localhost:8080/"
        },
        "outputId": "a7900df7-919f-44d4-da16-612da99e48d2"
      },
      "outputs": [
        {
          "output_type": "stream",
          "name": "stdout",
          "text": [
            "tensor([2, 2, 5, 2, 6, 5, 2, 5, 3, 0, 8, 5, 0, 2, 4, 4, 9, 2, 6, 3, 0, 1, 4, 9,\n",
            "        4, 9, 4, 8, 0, 0, 2, 0])\n",
            "torch.Size([32, 1, 28, 28])\n"
          ]
        }
      ],
      "source": [
        "for images, labels in train_dl:\n",
        "    print(labels)\n",
        "    print(images.shape)\n",
        "    break"
      ]
    },
    {
      "cell_type": "code",
      "execution_count": 12,
      "metadata": {
        "id": "CR6PjVPhHVFd"
      },
      "outputs": [],
      "source": [
        "class MnistModel(nn.Module):\n",
        "    def __init__(self):\n",
        "        super().__init__()\n",
        "        self.linear = nn.Linear(input_size, classes)\n",
        "\n",
        "    def forward(self, xb):\n",
        "        xb = xb.reshape(-1, 784)\n",
        "        out = self.linear(xb)\n",
        "        return out\n",
        "\n",
        "model = MnistModel()"
      ]
    },
    {
      "cell_type": "code",
      "execution_count": 13,
      "metadata": {
        "id": "1M3Vu3fLJ5o1",
        "colab": {
          "base_uri": "https://localhost:8080/"
        },
        "outputId": "fa187da7-da1c-457c-8d69-6c133b8817dd"
      },
      "outputs": [
        {
          "output_type": "stream",
          "name": "stdout",
          "text": [
            "tensor([9, 9, 7, 7, 1, 2, 9, 9, 5, 8, 9, 1, 0, 0, 2, 2, 8, 6, 5, 9, 7, 5, 1, 0,\n",
            "        1, 1, 3, 1, 0, 7, 2, 1])\n",
            "torch.Size([32, 1, 28, 28])\n",
            "torch.Size([32, 10])\n"
          ]
        }
      ],
      "source": [
        "for images, labels in train_dl:\n",
        "    print(labels)\n",
        "    print(images.shape)\n",
        "    outputs = model(images)\n",
        "    print(outputs.shape)\n",
        "    break"
      ]
    },
    {
      "cell_type": "markdown",
      "metadata": {
        "id": "46qm_dBLB9so"
      },
      "source": [
        "# **Error and Accuracy functions**"
      ]
    },
    {
      "cell_type": "code",
      "execution_count": 14,
      "metadata": {
        "id": "THCLHHoYAVdM",
        "colab": {
          "base_uri": "https://localhost:8080/"
        },
        "outputId": "23f1b369-acc5-4bcf-eb0d-a95bb9fc9b3a"
      },
      "outputs": [
        {
          "output_type": "stream",
          "name": "stdout",
          "text": [
            "torch.Size([32, 1, 28, 28])\n"
          ]
        }
      ],
      "source": [
        "for images,labels in train_dl :\n",
        "    print(images.shape)\n",
        "    outputs = model(images)\n",
        "    break"
      ]
    },
    {
      "cell_type": "code",
      "execution_count": 16,
      "metadata": {
        "id": "22NSTxIpAVxB",
        "colab": {
          "base_uri": "https://localhost:8080/"
        },
        "outputId": "2e57b9e3-c89b-4754-b7a5-bb8ba6624947"
      },
      "outputs": [
        {
          "output_type": "stream",
          "name": "stdout",
          "text": [
            "Sample probabilities:\n",
            " tensor([0.0759, 0.1114, 0.0897, 0.1412, 0.1262, 0.1172, 0.0996, 0.0588, 0.0785,\n",
            "        0.1015])\n"
          ]
        },
        {
          "output_type": "execute_result",
          "data": {
            "text/plain": [
              "1.0"
            ]
          },
          "metadata": {},
          "execution_count": 16
        }
      ],
      "source": [
        "probs = F.softmax(outputs,dim=1)\n",
        "max_probs , preds = torch.max(probs,dim=1)\n",
        "print(\"Sample probabilities:\\n\", probs[0].data)\n",
        "\n",
        "torch.sum(probs[0]).item()"
      ]
    },
    {
      "cell_type": "code",
      "execution_count": 17,
      "metadata": {
        "id": "njiiGcQTNewA",
        "colab": {
          "base_uri": "https://localhost:8080/"
        },
        "outputId": "3ffc3f35-1815-458a-dcda-68f6c7066170"
      },
      "outputs": [
        {
          "output_type": "execute_result",
          "data": {
            "text/plain": [
              "tensor(3)"
            ]
          },
          "metadata": {},
          "execution_count": 17
        }
      ],
      "source": [
        "torch.sum(preds == labels)"
      ]
    },
    {
      "cell_type": "code",
      "execution_count": 18,
      "metadata": {
        "id": "vQQ6sq_8BbkU"
      },
      "outputs": [],
      "source": [
        "def accuracy(outputs,labels):\n",
        "    _,preds = torch.max(outputs,dim=1)\n",
        "    return torch.tensor(torch.sum(preds == labels).item()/len(probs))"
      ]
    },
    {
      "cell_type": "code",
      "execution_count": 19,
      "metadata": {
        "id": "DWpRwYpZCfMO",
        "colab": {
          "base_uri": "https://localhost:8080/"
        },
        "outputId": "06bd808f-5a47-4836-d666-18da1c5e5322"
      },
      "outputs": [
        {
          "output_type": "stream",
          "name": "stdout",
          "text": [
            "tensor(0.0938)\n"
          ]
        }
      ],
      "source": [
        "accuracy(outputs,labels)\n",
        "loss_fn = F.cross_entropy\n",
        "loss = loss_fn(outputs,labels)\n",
        "\n",
        "print (accuracy(outputs,labels))"
      ]
    },
    {
      "cell_type": "markdown",
      "metadata": {
        "id": "hKwNoEf5Dd1V"
      },
      "source": [
        "# ***Training Function***"
      ]
    },
    {
      "cell_type": "code",
      "execution_count": 20,
      "metadata": {
        "id": "p7U8WZhfCybK"
      },
      "outputs": [],
      "source": [
        "def fit(epochs, lr, model, train_ds, val_loader, opt_func=torch.optim.SGD):\n",
        "    optimizer = opt_func(model.parameters(), lr)\n",
        "    Train = [] # for recording epoch-wise results\n",
        "\n",
        "    for epoch in range(epochs):\n",
        "\n",
        "        # Training Phase\n",
        "        for batch in train_ds:\n",
        "            loss = model.training_step(batch)\n",
        "            loss.backward()\n",
        "            optimizer.step()\n",
        "            optimizer.zero_grad()\n",
        "\n",
        "        # Validation phase\n",
        "        result = evaluate(model, val_loader)\n",
        "        model.epoch_end(epoch, result)\n",
        "        Train.append(result)\n",
        "\n",
        "    return Train"
      ]
    },
    {
      "cell_type": "markdown",
      "metadata": {
        "id": "tRlxqtjYC30x"
      },
      "source": [
        "# **Evaluating**"
      ]
    },
    {
      "cell_type": "code",
      "execution_count": 21,
      "metadata": {
        "id": "ycFpTHK3C3Yp"
      },
      "outputs": [],
      "source": [
        "def evaluate(model,val_loader):\n",
        "    outputs=[model.validation_step(batch) for batch in val_loader]\n",
        "    return model.validation_epoch_end(outputs)"
      ]
    },
    {
      "cell_type": "markdown",
      "metadata": {
        "id": "HHNSfxPmCEOo"
      },
      "source": [
        "# **Extending NN Module**"
      ]
    },
    {
      "cell_type": "code",
      "execution_count": 22,
      "metadata": {
        "id": "Jb-xgB0I9ZAp"
      },
      "outputs": [],
      "source": [
        "class MnistModel(nn.Module):\n",
        "    def __init__(self):\n",
        "        super().__init__()\n",
        "        self.linear = nn.Linear(input_size, classes)\n",
        "\n",
        "    def forward(self, xb):\n",
        "        xb = xb.reshape(-1, 784)\n",
        "        out = self.linear(xb)\n",
        "        return out\n",
        "\n",
        "    def training_step(self, batch):\n",
        "        images, labels = batch\n",
        "        out = self(images)                  # Generate predictions\n",
        "        loss = F.cross_entropy(out, labels) # Calculate loss\n",
        "        return loss\n",
        "\n",
        "    def validation_step(self, batch):\n",
        "        images, labels = batch\n",
        "        out = self(images)                    # Generate predictions\n",
        "        loss = F.cross_entropy(out, labels)   # Calculate loss\n",
        "        acc = accuracy(out, labels)           # Calculate accuracy\n",
        "        return {'val_loss': loss, 'val_acc': acc}\n",
        "\n",
        "    def validation_epoch_end(self, outputs):\n",
        "        batch_losses = [x['val_loss'] for x in outputs]\n",
        "        epoch_loss = torch.stack(batch_losses).mean()   # Combine losses\n",
        "        batch_accs = [x['val_acc'] for x in outputs]\n",
        "        epoch_acc = torch.stack(batch_accs).mean()      # Combine accuracies\n",
        "        return {'val_loss': epoch_loss.item(), 'val_acc': epoch_acc.item()}\n",
        "\n",
        "    def epoch_end(self, epoch, result):\n",
        "        print(\"Epoch [{}], val_loss: {:.4f}, val_acc: {:.4f}\".format(epoch, result['val_loss'], result['val_acc']))\n",
        "\n",
        "model = MnistModel()"
      ]
    },
    {
      "cell_type": "code",
      "execution_count": 35,
      "metadata": {
        "id": "9iUlNVUED7vA",
        "colab": {
          "base_uri": "https://localhost:8080/"
        },
        "outputId": "62b40b3f-6316-49e0-8cae-534f47733473"
      },
      "outputs": [
        {
          "output_type": "execute_result",
          "data": {
            "text/plain": [
              "{'val_loss': 0.47753846645355225, 'val_acc': 0.8872803449630737}"
            ]
          },
          "metadata": {},
          "execution_count": 35
        }
      ],
      "source": [
        "result0 = evaluate(model, val_dl)\n",
        "result0"
      ]
    },
    {
      "cell_type": "code",
      "execution_count": 36,
      "metadata": {
        "id": "kcn4E9g4D8Yb",
        "colab": {
          "base_uri": "https://localhost:8080/"
        },
        "outputId": "064fc50d-8387-45fb-a04b-2f80ff2188c2"
      },
      "outputs": [
        {
          "output_type": "stream",
          "name": "stdout",
          "text": [
            "Epoch [0], val_loss: 0.5207, val_acc: 0.8689\n",
            "Epoch [1], val_loss: 0.4186, val_acc: 0.9030\n",
            "Epoch [2], val_loss: 0.5075, val_acc: 0.8816\n",
            "Epoch [3], val_loss: 0.4266, val_acc: 0.9001\n",
            "Epoch [4], val_loss: 0.4816, val_acc: 0.8880\n",
            "Epoch [5], val_loss: 0.4907, val_acc: 0.8816\n",
            "Epoch [6], val_loss: 0.4554, val_acc: 0.8944\n",
            "Epoch [7], val_loss: 0.4294, val_acc: 0.9009\n",
            "Epoch [8], val_loss: 0.4247, val_acc: 0.9030\n",
            "Epoch [9], val_loss: 0.4802, val_acc: 0.8876\n",
            "Epoch [10], val_loss: 0.4243, val_acc: 0.9041\n",
            "Epoch [11], val_loss: 0.5078, val_acc: 0.8838\n",
            "Epoch [12], val_loss: 0.4766, val_acc: 0.8920\n",
            "Epoch [13], val_loss: 0.5195, val_acc: 0.8802\n",
            "Epoch [14], val_loss: 0.4614, val_acc: 0.8929\n"
          ]
        }
      ],
      "source": [
        "Train1 = fit(15, 1, model, train_dl, val_dl)"
      ]
    },
    {
      "cell_type": "code",
      "execution_count": 37,
      "metadata": {
        "id": "rRh8KjQ0EqBj",
        "colab": {
          "base_uri": "https://localhost:8080/"
        },
        "outputId": "897e4c3c-bd8f-4378-d6ed-17a5f7d5fd1f"
      },
      "outputs": [
        {
          "output_type": "stream",
          "name": "stdout",
          "text": [
            "Epoch [0], val_loss: 0.3847, val_acc: 0.9142\n",
            "Epoch [1], val_loss: 0.3804, val_acc: 0.9150\n",
            "Epoch [2], val_loss: 0.3768, val_acc: 0.9152\n",
            "Epoch [3], val_loss: 0.3748, val_acc: 0.9149\n",
            "Epoch [4], val_loss: 0.3722, val_acc: 0.9157\n",
            "Epoch [5], val_loss: 0.3709, val_acc: 0.9150\n",
            "Epoch [6], val_loss: 0.3695, val_acc: 0.9143\n",
            "Epoch [7], val_loss: 0.3680, val_acc: 0.9156\n",
            "Epoch [8], val_loss: 0.3663, val_acc: 0.9151\n",
            "Epoch [9], val_loss: 0.3660, val_acc: 0.9147\n",
            "Epoch [10], val_loss: 0.3645, val_acc: 0.9154\n",
            "Epoch [11], val_loss: 0.3635, val_acc: 0.9149\n",
            "Epoch [12], val_loss: 0.3630, val_acc: 0.9159\n",
            "Epoch [13], val_loss: 0.3623, val_acc: 0.9151\n",
            "Epoch [14], val_loss: 0.3612, val_acc: 0.9151\n"
          ]
        }
      ],
      "source": [
        "Train2 = fit(15, 0.01, model, train_dl, val_dl)"
      ]
    },
    {
      "cell_type": "code",
      "execution_count": 38,
      "metadata": {
        "id": "bfnu-da5Ep0z",
        "colab": {
          "base_uri": "https://localhost:8080/"
        },
        "outputId": "d2297b7a-a3d9-4ace-bbba-a5218a550a59"
      },
      "outputs": [
        {
          "output_type": "stream",
          "name": "stdout",
          "text": [
            "Epoch [0], val_loss: 0.3612, val_acc: 0.9148\n",
            "Epoch [1], val_loss: 0.3612, val_acc: 0.9146\n",
            "Epoch [2], val_loss: 0.3612, val_acc: 0.9148\n",
            "Epoch [3], val_loss: 0.3611, val_acc: 0.9152\n",
            "Epoch [4], val_loss: 0.3611, val_acc: 0.9150\n",
            "Epoch [5], val_loss: 0.3610, val_acc: 0.9152\n",
            "Epoch [6], val_loss: 0.3610, val_acc: 0.9151\n",
            "Epoch [7], val_loss: 0.3609, val_acc: 0.9151\n",
            "Epoch [8], val_loss: 0.3608, val_acc: 0.9151\n",
            "Epoch [9], val_loss: 0.3608, val_acc: 0.9151\n",
            "Epoch [10], val_loss: 0.3607, val_acc: 0.9151\n",
            "Epoch [11], val_loss: 0.3606, val_acc: 0.9151\n",
            "Epoch [12], val_loss: 0.3606, val_acc: 0.9153\n",
            "Epoch [13], val_loss: 0.3605, val_acc: 0.9151\n",
            "Epoch [14], val_loss: 0.3605, val_acc: 0.9150\n"
          ]
        }
      ],
      "source": [
        "Train3 = fit(15, 0.001, model, train_dl, val_dl)"
      ]
    },
    {
      "cell_type": "code",
      "execution_count": 27,
      "metadata": {
        "id": "xfEZdIH8Eptd",
        "colab": {
          "base_uri": "https://localhost:8080/"
        },
        "outputId": "595e1957-22f2-482e-b7af-e01c7862afa6"
      },
      "outputs": [
        {
          "output_type": "stream",
          "name": "stdout",
          "text": [
            "Epoch [0], val_loss: 0.3093, val_acc: 0.9133\n",
            "Epoch [1], val_loss: 0.3083, val_acc: 0.9143\n",
            "Epoch [2], val_loss: 0.3078, val_acc: 0.9152\n",
            "Epoch [3], val_loss: 0.3076, val_acc: 0.9138\n",
            "Epoch [4], val_loss: 0.3070, val_acc: 0.9147\n",
            "Epoch [5], val_loss: 0.3064, val_acc: 0.9147\n",
            "Epoch [6], val_loss: 0.3060, val_acc: 0.9144\n",
            "Epoch [7], val_loss: 0.3059, val_acc: 0.9136\n",
            "Epoch [8], val_loss: 0.3058, val_acc: 0.9142\n",
            "Epoch [9], val_loss: 0.3054, val_acc: 0.9154\n",
            "Epoch [10], val_loss: 0.3046, val_acc: 0.9151\n",
            "Epoch [11], val_loss: 0.3045, val_acc: 0.9150\n",
            "Epoch [12], val_loss: 0.3039, val_acc: 0.9156\n",
            "Epoch [13], val_loss: 0.3040, val_acc: 0.9160\n",
            "Epoch [14], val_loss: 0.3038, val_acc: 0.9152\n"
          ]
        }
      ],
      "source": [
        "Train4 = fit(15, 0.01, model, train_dl, val_dl)"
      ]
    },
    {
      "cell_type": "code",
      "execution_count": 33,
      "metadata": {
        "id": "Jm5dCFXkEVSc",
        "colab": {
          "base_uri": "https://localhost:8080/",
          "height": 472
        },
        "outputId": "54a1e238-e187-4e1e-a157-c8a07c99260e"
      },
      "outputs": [
        {
          "output_type": "display_data",
          "data": {
            "text/plain": [
              "<Figure size 640x480 with 1 Axes>"
            ],
            "image/png": "[encoded data removed]"
          },
          "metadata": {}
        }
      ],
      "source": [
        "Train = [result0] + Train1 + Train2 + Train3 + Train4 #+ Train5 + Train6 + Train7+ Train8 + Train9\n",
        "accuracies = [result['val_acc'] for result in Train]\n",
        "plt.plot(accuracies, '-*',c ='g')\n",
        "plt.xlabel('epoch')\n",
        "plt.ylabel('accuracy')\n",
        "plt.title('Accuracy vs. No. of epochs');"
      ]
    },
    {
      "cell_type": "code",
      "execution_count": null,
      "metadata": {
        "id": "3qESdZATbwhv"
      },
      "outputs": [],
      "source": []
    }
  ],
  "metadata": {
    "colab": {
      "provenance": [],
      "authorship_tag": "ABX9TyNFae1xSj1qXN73Ye+/olds",
      "include_colab_link": true
    },
    "kernelspec": {
      "display_name": "Python 3",
      "name": "python3"
    },
    "language_info": {
      "name": "python"
    }
  },
  "nbformat": 4,
  "nbformat_minor": 0
}